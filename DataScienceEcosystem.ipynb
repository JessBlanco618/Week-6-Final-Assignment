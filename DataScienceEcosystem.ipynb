{
 "cells": [
  {
   "cell_type": "markdown",
   "id": "b8bae9b6",
   "metadata": {},
   "source": [
    "# Data Science Tools and Ecosystem"
   ]
  },
  {
   "cell_type": "markdown",
   "id": "8c030a42",
   "metadata": {},
   "source": [
    "## Author\n",
    "Jessica Peterson"
   ]
  },
  {
   "cell_type": "markdown",
   "id": "9967fc0f",
   "metadata": {},
   "source": [
    "In this notebook, Data Science Tools and Ecosystem are summarized."
   ]
  },
  {
   "cell_type": "markdown",
   "id": "5b14fc23",
   "metadata": {},
   "source": [
    "__Objectives:__\n",
    "\n",
    "- List popular languages for Data Science\n",
    "- List common libraries for Data Science\n",
    "- List open source Data Science Tools\n",
    "- Simple arithmetic"
   ]
  },
  {
   "cell_type": "markdown",
   "id": "df0d87b3",
   "metadata": {},
   "source": [
    "_*Some of the popular languages that Data Scientists use are:*_\n",
    "\n",
    "1. Python\n",
    "2. R\n",
    "3. SQL\n",
    "4. Java"
   ]
  },
  {
   "cell_type": "markdown",
   "id": "88059ce7",
   "metadata": {},
   "source": [
    "_*Some of the commonly used libraries used by Data Scientists include:*_\n",
    "\n",
    "1. Pandas (Python)\n",
    "2. numPy (Python)\n",
    "3. Matplotlib (Python)"
   ]
  },
  {
   "cell_type": "markdown",
   "id": "bb9db58e",
   "metadata": {},
   "source": [
    "| **Data Science Tools** |\n",
    "|--- |\n",
    "| Ceph |\n",
    "| MySQL |\n",
    "| Apache Cassandra |"
   ]
  },
  {
   "cell_type": "markdown",
   "id": "5c73b3dd",
   "metadata": {},
   "source": [
    "### Below are a few examples of evaluating arithmetic expressions in Python"
   ]
  },
  {
   "cell_type": "code",
   "execution_count": 1,
   "id": "955a1bf8",
   "metadata": {},
   "outputs": [
    {
     "data": {
      "text/plain": [
       "17"
      ]
     },
     "execution_count": 1,
     "metadata": {},
     "output_type": "execute_result"
    }
   ],
   "source": [
    "# This is a simple arithmetic expression to multiply then add integers\n",
    "\n",
    "(3*4)+5"
   ]
  },
  {
   "cell_type": "code",
   "execution_count": 2,
   "id": "ce4b1e6d",
   "metadata": {},
   "outputs": [
    {
     "data": {
      "text/plain": [
       "3.3333333333333335"
      ]
     },
     "execution_count": 2,
     "metadata": {},
     "output_type": "execute_result"
    }
   ],
   "source": [
    "# This will convert 200 minutes to hours by dividing by 60\n",
    "\n",
    "200/60"
   ]
  },
  {
   "cell_type": "code",
   "execution_count": null,
   "id": "8b29824a",
   "metadata": {},
   "outputs": [],
   "source": []
  }
 ],
 "metadata": {
  "kernelspec": {
   "display_name": "Python 3 (ipykernel)",
   "language": "python",
   "name": "python3"
  },
  "language_info": {
   "codemirror_mode": {
    "name": "ipython",
    "version": 3
   },
   "file_extension": ".py",
   "mimetype": "text/x-python",
   "name": "python",
   "nbconvert_exporter": "python",
   "pygments_lexer": "ipython3",
   "version": "3.11.4"
  }
 },
 "nbformat": 4,
 "nbformat_minor": 5
}
